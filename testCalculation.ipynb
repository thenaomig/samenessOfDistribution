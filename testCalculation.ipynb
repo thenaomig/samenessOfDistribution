{
 "cells": [
  {
   "cell_type": "code",
   "execution_count": 342,
   "metadata": {},
   "outputs": [],
   "source": [
    "import numpy as np\n",
    "import scipy as sp\n",
    "import pandas as pd\n",
    "import dask as da\n",
    "import xarray as xy\n",
    "import matplotlib.pyplot as plt\n",
    "from matplotlib import cm  #colormap                                                                                                                  \n",
    "import matplotlib.ticker as ticker\n",
    "import cartopy.crs as ccrs\n",
    "import cartopy.feature as cfeature\n",
    "from time import time\n",
    "import os.path\n",
    "import cftime\n",
    "from copy import deepcopy\n",
    "\n",
    "from scipy.stats import ks_2samp as ksTest\n",
    "\n",
    "from matplotlib.colors import LinearSegmentedColormap\n",
    "mycmap = LinearSegmentedColormap.from_list(\"\", [\"white\",\"purple\",\"purple\"],N=10)\n"
   ]
  },
  {
   "cell_type": "code",
   "execution_count": 343,
   "metadata": {},
   "outputs": [],
   "source": [
    "def getCal(fileName):\n",
    "    temp = xy.open_dataset(fileName,decode_times=False)\n",
    "    return temp.time.calendar\n",
    "\n",
    "def addSeasonArray(y):\n",
    "    return xy.DataArray([GroupbySeason(y,x) for x in np.arange(len(y.time))],name='season',dims=['time'])\n",
    "\n",
    "def GroupbySeason(df, ind):\n",
    "    month = int(str(df['time'].isel(time=ind).coords).split('-')[1])\n",
    "    if month in [12,1,2]:\n",
    "        return 'DJF'\n",
    "    elif month in [3,4,5]:\n",
    "        return 'MAM'\n",
    "    elif month in [6,7,8]:\n",
    "        return 'JJA'\n",
    "    elif month in [9,10,11]:\n",
    "        return 'SON'\n",
    "\n",
    "def startslice(startYear,fileName):\n",
    "    sm = 1\n",
    "    if getCal(fileName) == '360_day':\n",
    "        startslice = cftime.Datetime360Day(startYear, sm, 1,0,0,0,0,-1,1)\n",
    "    else:\n",
    "        startslice = str(startYear)+str(sm).zfill(2)+'01'\n",
    "\n",
    "    return startslice\n",
    "\n",
    "def endslice(endYear,fileName):\n",
    "    if getCal(fileName) == '360_day':\n",
    "        endslice = cftime.Datetime360Day(endYear, 12, 30,23,0,0,0,-1,360)\n",
    "    else:\n",
    "        endslice = str(endYear)+'1231'\n",
    "\n",
    "    return endslice\n"
   ]
  },
  {
   "cell_type": "code",
   "execution_count": 344,
   "metadata": {},
   "outputs": [],
   "source": [
    "def wetDayPercentile(y,q=85):\n",
    "    #note hard-coded wet-day threshold of >0.1mm/d                                                                                                    \n",
    "    return y.where(y>0.1).reduce(np.nanpercentile,dim='time',q=q)\n"
   ]
  },
  {
   "cell_type": "code",
   "execution_count": 345,
   "metadata": {},
   "outputs": [],
   "source": [
    " # arguments should be passed in:                                                                                                                  \n",
    "#\"label\": plot title: \"[analysis scenario rcm gcm location]\"                                                                                      \n",
    "label = \"ksTestTail test[scenario rcm gcm location]\"\n",
    "#\"obs\": input file with observational data (single timeseries, one variable, one point)                                                           \n",
    "obs = 'dataFiles/prec.obs.nc'\n",
    "#\"cur\": same as obs, but for historical period of simulation                                                                                      \n",
    "cur = 'dataFiles/prec.cur.nc'\n",
    "#\"fut\": same as \"cur\", but for future period of simulation                                                                                        \n",
    "fut = 'dataFiles/prec.fut.nc'\n",
    "#\"png\": name of 'png' file to write the figure                                                                                                    \n",
    "png = \"testKStestTail.png\"\n",
    "#\"var\": name of data variable in input files                                                                                                      \n",
    "var = \"prec\"\n",
    "#\"txt\": name of file to write tab-delimited numerical metric results                                                                              \n",
    "txt = \"testKStestTail.csv\"\n"
   ]
  },
  {
   "cell_type": "code",
   "execution_count": 346,
   "metadata": {},
   "outputs": [],
   "source": [
    "def callKStest(col):\n",
    "    try:\n",
    "        toReturn = ksTest(pHistDF[col].dropna().squeeze().values,obsDF[col].dropna().squeeze().values)\n",
    "        return (toReturn.statistic, toReturn.pvalue)\n",
    "    except:\n",
    "        return (np.NaN, np.NaN)\n",
    "\n",
    "def toDF(data):\n",
    "    dataWhere = data.loc[data['time.season']==season]\n",
    "    dataWhere = dataWhere.where(dataWhere>pThreshOne.sel(season=season))\n",
    "    dataStacked = dataWhere.stack(allpoints=['lat','lon']).squeeze()                                                                             \n",
    "    return dataStacked.to_pandas()                                                                                         \n",
    "\n",
    "obsData = xy.open_dataset(obs)\n",
    "pThreshOne = obsData[var].groupby('time.season').apply(wetDayPercentile,q=85)\n",
    "\n",
    "pHist = xy.open_dataset(cur)\n",
    "pFuture = xy.open_dataset(fut)\n"
   ]
  },
  {
   "cell_type": "code",
   "execution_count": 347,
   "metadata": {},
   "outputs": [],
   "source": [
    "if getCal(cur) == '360_day':\n",
    "    grouperString = 'season'\n",
    "    pHist.coords['season'] = addSeasonArray(pHist)\n",
    "    pFuture.coords['season'] = addSeasonArray(pFuture)\n",
    "else:\n",
    "    grouperString = 'time.season'\n"
   ]
  },
  {
   "cell_type": "code",
   "execution_count": 348,
   "metadata": {},
   "outputs": [
    {
     "name": "stdout",
     "output_type": "stream",
     "text": [
      "calculation took 1.19s\n"
     ]
    }
   ],
   "source": [
    "t1 = time()\n",
    "ksAll = pd.DataFrame()\n",
    "for season in ['DJF','JJA']:\n",
    "    pHistDF = toDF(pHist[var])\n",
    "    pFutureDF = toDF(pFuture[var])\n",
    "    obsDF = toDF(obsData[var])\n",
    "\n",
    "    ksOut = pd.DataFrame((callKStest(col) for col in pHistDF),index=pHistDF.columns)\n",
    "    ksAll[(season,'statistic')] = ksOut[0]\n",
    "    ksAll[(season,'pvalue')] = ksOut[1]\n",
    "\n",
    "ksAll = ksAll.transpose()\n",
    "ksAll.index = pd.MultiIndex.from_tuples(ksAll.index)\n",
    "ksAll.sort_index()\n",
    "ksAll = ksAll.transpose()\n",
    "t2=time()\n",
    "print ('calculation took '+str(np.round(t2-t1,2))+'s')\n"
   ]
  },
  {
   "cell_type": "code",
   "execution_count": 349,
   "metadata": {},
   "outputs": [
    {
     "name": "stderr",
     "output_type": "stream",
     "text": [
      "/home/ngoldenson/miniconda2/envs/forPy3/lib/python3.6/site-packages/matplotlib/tight_layout.py:176: UserWarning: Tight layout not applied. The left and right margins cannot be made large enough to accommodate all axes decorations. \n",
      "  warnings.warn('Tight layout not applied. The left and right margins '\n"
     ]
    },
    {
     "data": {
      "image/png": "[encoded data removed]",
      "text/plain": [
       "<Figure size 720x360 with 3 Axes>"
      ]
     },
     "metadata": {
      "needs_background": "light"
     },
     "output_type": "display_data"
    }
   ],
   "source": [
    "# for just a point or four, a map doesn't make much sense. \n",
    "# what would be a good accompanying visualization instead?\n",
    "pValToPlot = ksAll.transpose().swaplevel(0,1).transpose()['pvalue'].to_xarray().to_array('season')\n",
    "plotted = pValToPlot.plot.pcolormesh(transform=ccrs.PlateCarree(),col='season',col_wrap=2,\n",
    "                                  subplot_kws={'projection':ccrs.LambertCylindrical(200)},\n",
    "                                         figsize=[10,5],vmin=0,vmax=1,cmap=mycmap)\n",
    "seasons = ['DJF','JJA']\n",
    "for i, ax in enumerate(plotted.axes.flat):\n",
    "    ax.coastlines(linewidth=1.4)"
   ]
  },
  {
   "cell_type": "code",
   "execution_count": 350,
   "metadata": {},
   "outputs": [],
   "source": [
    "# write out the text file with the results\n",
    "ksAll.to_csv(txt)"
   ]
  },
  {
   "cell_type": "code",
   "execution_count": 351,
   "metadata": {},
   "outputs": [
    {
     "data": {
      "text/html": [
       "<div>\n",
       "<style scoped>\n",
       "    .dataframe tbody tr th:only-of-type {\n",
       "        vertical-align: middle;\n",
       "    }\n",
       "\n",
       "    .dataframe tbody tr th {\n",
       "        vertical-align: top;\n",
       "    }\n",
       "\n",
       "    .dataframe thead tr th {\n",
       "        text-align: left;\n",
       "    }\n",
       "\n",
       "    .dataframe thead tr:last-of-type th {\n",
       "        text-align: right;\n",
       "    }\n",
       "</style>\n",
       "<table border=\"1\" class=\"dataframe\">\n",
       "  <thead>\n",
       "    <tr>\n",
       "      <th></th>\n",
       "      <th></th>\n",
       "      <th colspan=\"2\" halign=\"left\">DJF</th>\n",
       "      <th colspan=\"2\" halign=\"left\">JJA</th>\n",
       "    </tr>\n",
       "    <tr>\n",
       "      <th></th>\n",
       "      <th></th>\n",
       "      <th>statistic</th>\n",
       "      <th>pvalue</th>\n",
       "      <th>statistic</th>\n",
       "      <th>pvalue</th>\n",
       "    </tr>\n",
       "    <tr>\n",
       "      <th>lat</th>\n",
       "      <th>lon</th>\n",
       "      <th></th>\n",
       "      <th></th>\n",
       "      <th></th>\n",
       "      <th></th>\n",
       "    </tr>\n",
       "  </thead>\n",
       "  <tbody>\n",
       "    <tr>\n",
       "      <th rowspan=\"2\" valign=\"top\">-33.08393</th>\n",
       "      <th>299.250</th>\n",
       "      <td>0.415158</td>\n",
       "      <td>0.000002</td>\n",
       "      <td>0.323544</td>\n",
       "      <td>0.000129</td>\n",
       "    </tr>\n",
       "    <tr>\n",
       "      <th>300.375</th>\n",
       "      <td>0.346154</td>\n",
       "      <td>0.000021</td>\n",
       "      <td>0.234514</td>\n",
       "      <td>0.006874</td>\n",
       "    </tr>\n",
       "    <tr>\n",
       "      <th rowspan=\"2\" valign=\"top\">-31.96244</th>\n",
       "      <th>299.250</th>\n",
       "      <td>0.248370</td>\n",
       "      <td>0.010386</td>\n",
       "      <td>0.256437</td>\n",
       "      <td>0.003600</td>\n",
       "    </tr>\n",
       "    <tr>\n",
       "      <th>300.375</th>\n",
       "      <td>0.268485</td>\n",
       "      <td>0.000334</td>\n",
       "      <td>0.100394</td>\n",
       "      <td>0.589222</td>\n",
       "    </tr>\n",
       "  </tbody>\n",
       "</table>\n",
       "</div>"
      ],
      "text/plain": [
       "                        DJF                 JJA          \n",
       "                  statistic    pvalue statistic    pvalue\n",
       "lat       lon                                            \n",
       "-33.08393 299.250  0.415158  0.000002  0.323544  0.000129\n",
       "          300.375  0.346154  0.000021  0.234514  0.006874\n",
       "-31.96244 299.250  0.248370  0.010386  0.256437  0.003600\n",
       "          300.375  0.268485  0.000334  0.100394  0.589222"
      ]
     },
     "execution_count": 351,
     "metadata": {},
     "output_type": "execute_result"
    }
   ],
   "source": [
    "# demo, read it back in:\n",
    "ksAllAgain = pd.read_csv(txt,index_col=[0,1],header=[0,1])\n",
    "ksAllAgain"
   ]
  },
  {
   "cell_type": "code",
   "execution_count": null,
   "metadata": {},
   "outputs": [],
   "source": []
  },
  {
   "cell_type": "code",
   "execution_count": null,
   "metadata": {},
   "outputs": [],
   "source": []
  },
  {
   "cell_type": "markdown",
   "metadata": {},
   "source": [
    "### instead, let's select just one lat/lon point first"
   ]
  },
  {
   "cell_type": "code",
   "execution_count": 404,
   "metadata": {},
   "outputs": [],
   "source": [
    "# version for only one point, not set of lats/lons:\n",
    "def toDF(data,overThresh=True):\n",
    "    dataWhere = data.sel(time=data['time.season']==season)\n",
    "    if overThresh:\n",
    "        dataWhere = dataWhere.where(dataWhere>pThreshOne.sel(season=season))\n",
    "    return dataWhere.to_pandas()    \n",
    "\n",
    "def callKStest(df1,df2):\n",
    "    try:\n",
    "        toReturn = ksTest(df1.dropna().squeeze().values,df2.dropna().squeeze().values)\n",
    "        return pd.Series([toReturn.statistic, toReturn.pvalue],index=['statistic','pValue'])\n",
    "    except:\n",
    "        return pd.Series([np.NaN, np.NaN],index=['statistic','pValue'])\n"
   ]
  },
  {
   "cell_type": "code",
   "execution_count": 405,
   "metadata": {},
   "outputs": [],
   "source": [
    "obsData = xy.open_dataset(obs)\n",
    "pThreshOne = obsData[var].groupby('time.season').apply(wetDayPercentile,q=85)\n",
    "\n",
    "pHist = xy.open_dataset(cur)\n",
    "pFuture = xy.open_dataset(fut)\n",
    "\n",
    "pThreshOne = pThreshOne.isel(lat=0,lon=0)"
   ]
  },
  {
   "cell_type": "code",
   "execution_count": 406,
   "metadata": {},
   "outputs": [
    {
     "name": "stdout",
     "output_type": "stream",
     "text": [
      "calculation took 2.17s\n"
     ]
    }
   ],
   "source": [
    "t1 = time()\n",
    "ksOut = pd.DataFrame()\n",
    "ksOutFut = pd.DataFrame()\n",
    "for i, season in enumerate(['DJF','MAM','JJA','SON']):\n",
    "    obsDF = toDF(obsData[var].isel(lat=0,lon=0))\n",
    "    histDF = toDF(pHist[var].isel(lat=0,lon=0))\n",
    "    futureDF = toDF(pFuture[var].isel(lat=0,lon=0))\n",
    "    \n",
    "    ksOut[season] = callKStest(histDF,obsDF)\n",
    "    ksOutFut[season] = callKStest(histDF,futureDF)\n",
    "    \n",
    "t2=time()\n",
    "print ('calculation took '+str(np.round(t2-t1,2))+'s')"
   ]
  },
  {
   "cell_type": "code",
   "execution_count": 396,
   "metadata": {},
   "outputs": [],
   "source": [
    "ksOut.to_csv(txt)"
   ]
  },
  {
   "cell_type": "code",
   "execution_count": 385,
   "metadata": {},
   "outputs": [
    {
     "data": {
      "text/html": [
       "<div>\n",
       "<style scoped>\n",
       "    .dataframe tbody tr th:only-of-type {\n",
       "        vertical-align: middle;\n",
       "    }\n",
       "\n",
       "    .dataframe tbody tr th {\n",
       "        vertical-align: top;\n",
       "    }\n",
       "\n",
       "    .dataframe thead th {\n",
       "        text-align: right;\n",
       "    }\n",
       "</style>\n",
       "<table border=\"1\" class=\"dataframe\">\n",
       "  <thead>\n",
       "    <tr style=\"text-align: right;\">\n",
       "      <th></th>\n",
       "      <th>DJF</th>\n",
       "      <th>MAM</th>\n",
       "      <th>JJA</th>\n",
       "      <th>SON</th>\n",
       "    </tr>\n",
       "  </thead>\n",
       "  <tbody>\n",
       "    <tr>\n",
       "      <th>statistic</th>\n",
       "      <td>0.415158</td>\n",
       "      <td>0.295273</td>\n",
       "      <td>0.323544</td>\n",
       "      <td>0.117272</td>\n",
       "    </tr>\n",
       "    <tr>\n",
       "      <th>pValue</th>\n",
       "      <td>0.000002</td>\n",
       "      <td>0.000052</td>\n",
       "      <td>0.000129</td>\n",
       "      <td>0.355096</td>\n",
       "    </tr>\n",
       "  </tbody>\n",
       "</table>\n",
       "</div>"
      ],
      "text/plain": [
       "                DJF       MAM       JJA       SON\n",
       "statistic  0.415158  0.295273  0.323544  0.117272\n",
       "pValue     0.000002  0.000052  0.000129  0.355096"
      ]
     },
     "execution_count": 385,
     "metadata": {},
     "output_type": "execute_result"
    }
   ],
   "source": [
    "#test read back in:\n",
    "ksOutAndBack = pd.read_csv(txt,index_col=0)\n",
    "ksOutAndBack"
   ]
  },
  {
   "cell_type": "code",
   "execution_count": 419,
   "metadata": {},
   "outputs": [
    {
     "data": {
      "image/png": "[encoded data removed]",
      "text/plain": [
       "<Figure size 1080x576 with 4 Axes>"
      ]
     },
     "metadata": {
      "needs_background": "light"
     },
     "output_type": "display_data"
    }
   ],
   "source": [
    "binsToUse = np.logspace(-1,2,60)\n",
    "plt.figure(figsize=[15,8])\n",
    "for i, season in enumerate(['DJF','MAM','JJA','SON']):\n",
    "    obsDF = toDF(obsData[var].isel(lat=0,lon=0),overThresh=False)\n",
    "    histDF = toDF(pHist[var].isel(lat=0,lon=0),overThresh=False)\n",
    "    futureDF = toDF(pFuture[var].isel(lat=0,lon=0),overThresh=False)\n",
    "    \n",
    "    ax = plt.subplot(2,2,i+1)\n",
    "    obsDF.plot.hist(ax=ax,bins=binsToUse,stacked=False,alpha=0.5,label='observations') \n",
    "    histDF.plot.hist(ax=ax,bins=binsToUse,stacked=False,alpha=0.5,label='historical') \n",
    "    #futureDF.plot.hist(ax=ax,bins=binsToUse,stacked=False,alpha=0.5,label='future') \n",
    "    ax.plot(np.zeros(10)+pThreshOne.sel(season=season).data,np.linspace(0,15,10),linestyle='--',color='b',label='85th percentile obs')    \n",
    "\n",
    "    ax.set(xscale='log')\n",
    "    ax.xaxis.set_major_formatter(ticker.FuncFormatter(lambda y,pos: ('{{:.{:1d}f}}'.format(int(np.maximum(-np.log10(y),0)))).format(y)))\n",
    "    if i>1:\n",
    "        try:\n",
    "            units = obsData[var].attrs['units']\n",
    "            plt.xlabel(units)\n",
    "        except:\n",
    "            plt.xlabel('default units in file')\n",
    "    plt.title(season)\n",
    "    plt.legend(loc='upper left')\n",
    "    ax.annotate('statistic: '+str(np.round(ksOut[season]['statistic'],2)),xy=(0.7,0.9),\n",
    "                xycoords='axes fraction')\n",
    "    ax.annotate('p value:  '+str(np.round(ksOut[season]['pValue'],2)),xy=(0.7,0.85),\n",
    "                xycoords='axes fraction')\n",
    "\n",
    "plt.suptitle(label)\n",
    "plt.savefig(png)"
   ]
  },
  {
   "cell_type": "markdown",
   "metadata": {},
   "source": [
    "#### Too busy with future on the same plots. Separately look at whether historical and future simulations could be said to be drawn from the same larger distribution."
   ]
  },
  {
   "cell_type": "code",
   "execution_count": 407,
   "metadata": {},
   "outputs": [
    {
     "data": {
      "text/plain": [
       "Text(0.5, 0.98, 'ksTestTail test[scenario rcm gcm location]')"
      ]
     },
     "execution_count": 407,
     "metadata": {},
     "output_type": "execute_result"
    },
    {
     "data": {
      "image/png": "[encoded data removed]",
      "text/plain": [
       "<Figure size 1080x576 with 4 Axes>"
      ]
     },
     "metadata": {
      "needs_background": "light"
     },
     "output_type": "display_data"
    }
   ],
   "source": [
    "binsToUse = np.logspace(-1,2,60)\n",
    "plt.figure(figsize=[15,8])\n",
    "for i, season in enumerate(['DJF','MAM','JJA','SON']):\n",
    "    #obsDF = toDF(obsData[var].isel(lat=0,lon=0),overThresh=False)\n",
    "    histDF = toDF(pHist[var].isel(lat=0,lon=0),overThresh=False)\n",
    "    futureDF = toDF(pFuture[var].isel(lat=0,lon=0),overThresh=False)\n",
    "    \n",
    "    ax = plt.subplot(2,2,i+1)\n",
    "    #obsDF.plot.hist(ax=ax,bins=binsToUse,stacked=False,alpha=0.5,label='observations') \n",
    "    histDF.plot.hist(ax=ax,bins=binsToUse,stacked=False,alpha=0.5,label='historical') \n",
    "    futureDF.plot.hist(ax=ax,bins=binsToUse,stacked=False,alpha=0.5,label='future') \n",
    "    ax.plot(np.zeros(10)+pThreshDF[season],np.linspace(0,15,10),linestyle='--',color='b',label='85th percentile obs')    \n",
    "\n",
    "    ax.set(xscale='log')\n",
    "    ax.xaxis.set_major_formatter(ticker.FuncFormatter(lambda y,pos: ('{{:.{:1d}f}}'.format(int(np.maximum(-np.log10(y),0)))).format(y)))\n",
    "    if i>1:\n",
    "        try:\n",
    "            units = obsData[var].attrs['units']\n",
    "            plt.xlabel(units)\n",
    "        except:\n",
    "            plt.xlabel('default units in file')\n",
    "    plt.title(season)\n",
    "    plt.legend(loc='upper left')\n",
    "    ax.annotate('statistic: '+str(np.round(ksOutFut[season]['statistic'],2)),xy=(0.7,0.9),\n",
    "                xycoords='axes fraction')\n",
    "    ax.annotate('p value:  '+str(np.round(ksOutFut[season]['pValue'],2)),xy=(0.7,0.85),\n",
    "                xycoords='axes fraction')\n",
    "\n",
    "plt.suptitle(label)\n"
   ]
  },
  {
   "cell_type": "code",
   "execution_count": null,
   "metadata": {},
   "outputs": [],
   "source": []
  }
 ],
 "metadata": {
  "kernelspec": {
   "display_name": "Python 3",
   "language": "python",
   "name": "python3"
  },
  "language_info": {
   "codemirror_mode": {
    "name": "ipython",
    "version": 3
   },
   "file_extension": ".py",
   "mimetype": "text/x-python",
   "name": "python",
   "nbconvert_exporter": "python",
   "pygments_lexer": "ipython3",
   "version": "3.6.8"
  }
 },
 "nbformat": 4,
 "nbformat_minor": 2
}
