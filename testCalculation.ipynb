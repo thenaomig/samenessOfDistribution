{
 "cells": [
  {
   "cell_type": "code",
   "execution_count": 1,
   "metadata": {},
   "outputs": [],
   "source": [
    "import numpy as np\n",
    "import scipy as sp\n",
    "import pandas as pd\n",
    "import dask as da\n",
    "import xarray as xy\n",
    "import matplotlib.pyplot as plt\n",
    "from matplotlib import cm  #colormap                                                                                                                  \n",
    "import matplotlib.ticker as ticker\n",
    "import cartopy.crs as ccrs\n",
    "import cartopy.feature as cfeature\n",
    "from time import time\n",
    "import os.path\n",
    "import cftime\n",
    "from copy import deepcopy\n",
    "\n",
    "from scipy.stats import ks_2samp as ksTest\n",
    "\n",
    "from matplotlib.colors import LinearSegmentedColormap\n",
    "mycmap = LinearSegmentedColormap.from_list(\"\", [\"white\",\"purple\",\"purple\"],N=10)\n"
   ]
  },
  {
   "cell_type": "code",
   "execution_count": 2,
   "metadata": {},
   "outputs": [],
   "source": [
    "def getCal(fileName):\n",
    "    temp = xy.open_dataset(fileName,decode_times=False)\n",
    "    return temp.time.calendar\n",
    "\n",
    "def addSeasonArray(y):\n",
    "    return xy.DataArray([GroupbySeason(y,x) for x in np.arange(len(y.time))],name='season',dims=['time'])\n",
    "\n",
    "def GroupbySeason(df, ind):\n",
    "    month = int(str(df['time'].isel(time=ind).coords).split('-')[1])\n",
    "    if month in [12,1,2]:\n",
    "        return 'DJF'\n",
    "    elif month in [3,4,5]:\n",
    "        return 'MAM'\n",
    "    elif month in [6,7,8]:\n",
    "        return 'JJA'\n",
    "    elif month in [9,10,11]:\n",
    "        return 'SON'\n",
    "\n",
    "def startslice(startYear,fileName):\n",
    "    sm = 1\n",
    "    if getCal(fileName) == '360_day':\n",
    "        startslice = cftime.Datetime360Day(startYear, sm, 1,0,0,0,0,-1,1)\n",
    "    else:\n",
    "        startslice = str(startYear)+str(sm).zfill(2)+'01'\n",
    "\n",
    "    return startslice\n",
    "\n",
    "def endslice(endYear,fileName):\n",
    "    if getCal(fileName) == '360_day':\n",
    "        endslice = cftime.Datetime360Day(endYear, 12, 30,23,0,0,0,-1,360)\n",
    "    else:\n",
    "        endslice = str(endYear)+'1231'\n",
    "\n",
    "    return endslice\n"
   ]
  },
  {
   "cell_type": "code",
   "execution_count": 3,
   "metadata": {},
   "outputs": [],
   "source": [
    "def wetDayPercentile(y,q=85):\n",
    "    #note hard-coded wet-day threshold of >0.1mm/d                                                                                                    \n",
    "    return y.where(y>0.1).reduce(np.nanpercentile,dim='time',q=q)\n"
   ]
  },
  {
   "cell_type": "code",
   "execution_count": 4,
   "metadata": {},
   "outputs": [],
   "source": [
    " # arguments should be passed in:                                                                                                                  \n",
    "#\"label\": plot title: \"[analysis scenario rcm gcm location]\"                                                                                      \n",
    "label = \"ksTestTail test[scenario rcm gcm location]\"\n",
    "#\"obs\": input file with observational data (single timeseries, one variable, one point)                                                           \n",
    "obs = 'dataFiles/prec.obs.nc'\n",
    "#\"cur\": same as obs, but for historical period of simulation                                                                                      \n",
    "cur = 'dataFiles/prec.cur.nc'\n",
    "#\"fut\": same as \"cur\", but for future period of simulation                                                                                        \n",
    "fut = 'dataFiles/prec.fut.nc'\n",
    "#\"png\": name of 'png' file to write the figure                                                                                                    \n",
    "png = \"testKStestTail.png\"\n",
    "#\"var\": name of data variable in input files                                                                                                      \n",
    "var = \"prec\"\n",
    "#\"txt\": name of file to write tab-delimited numerical metric results                                                                              \n",
    "txt = \"testKStestTail.csv\"\n"
   ]
  },
  {
   "cell_type": "code",
   "execution_count": 14,
   "metadata": {},
   "outputs": [],
   "source": [
    "def callKStest(col):\n",
    "    try:\n",
    "        toReturn = ksTest(pHistDF[col].dropna().squeeze().values,obsDF[col].dropna().squeeze().values)\n",
    "        return (toReturn.statistic, toReturn.pvalue)\n",
    "    except:\n",
    "        return (np.NaN, np.NaN)\n",
    "\n",
    "def toDF(data):\n",
    "    dataWhere = data.loc[data['time.season']==season]\n",
    "    dataWhere = dataWhere.where(dataWhere>pThreshOne.sel(season=season))\n",
    "    dataStacked = dataWhere.stack(allpoints=['lat','lon']).squeeze()                                                                             \n",
    "    return dataStacked.to_pandas()                                                                                         \n",
    "\n",
    "obsData = xy.open_dataset(obs)\n",
    "pThreshOne = obsData[var].groupby('time.season').apply(wetDayPercentile,q=85)\n",
    "\n",
    "pHist = xy.open_dataset(cur)\n",
    "pFuture = xy.open_dataset(fut)\n"
   ]
  },
  {
   "cell_type": "code",
   "execution_count": 10,
   "metadata": {},
   "outputs": [],
   "source": [
    "if getCal(cur) == '360_day':\n",
    "    grouperString = 'season'\n",
    "    pHist.coords['season'] = addSeasonArray(pHist)\n",
    "    pFuture.coords['season'] = addSeasonArray(pFuture)\n",
    "else:\n",
    "    grouperString = 'time.season'\n"
   ]
  },
  {
   "cell_type": "code",
   "execution_count": 26,
   "metadata": {},
   "outputs": [
    {
     "name": "stdout",
     "output_type": "stream",
     "text": [
      "calculation took 1.18s\n"
     ]
    }
   ],
   "source": [
    "t1 = time()\n",
    "ksAll = pd.DataFrame()\n",
    "for season in ['DJF','JJA']:\n",
    "    pHistDF = toDF(pHist[var])\n",
    "    pFutureDF = toDF(pFuture[var])\n",
    "    obsDF = toDF(obsData[var])\n",
    "\n",
    "    ksOut = pd.DataFrame((callKStest(col) for col in pHistDF),index=pHistDF.columns)\n",
    "    ksAll[(season,'statistic')] = ksOut[0]\n",
    "    ksAll[(season,'pvalue')] = ksOut[1]\n",
    "\n",
    "ksAll = ksAll.transpose()\n",
    "ksAll.index = pd.MultiIndex.from_tuples(ksAll.index)\n",
    "ksAll.sort_index()\n",
    "ksAll = ksAll.transpose()\n",
    "t2=time()\n",
    "print ('calculation took '+str(np.round(t2-t1,2))+'s')\n"
   ]
  },
  {
   "cell_type": "code",
   "execution_count": null,
   "metadata": {},
   "outputs": [],
   "source": []
  },
  {
   "cell_type": "code",
   "execution_count": 37,
   "metadata": {},
   "outputs": [
    {
     "name": "stderr",
     "output_type": "stream",
     "text": [
      "/home/ngoldenson/miniconda2/envs/forPy3/lib/python3.6/site-packages/matplotlib/tight_layout.py:176: UserWarning: Tight layout not applied. The left and right margins cannot be made large enough to accommodate all axes decorations. \n",
      "  warnings.warn('Tight layout not applied. The left and right margins '\n"
     ]
    },
    {
     "data": {
      "image/png": "[encoded data removed]",
      "text/plain": [
       "<Figure size 720x360 with 3 Axes>"
      ]
     },
     "metadata": {
      "needs_background": "light"
     },
     "output_type": "display_data"
    }
   ],
   "source": [
    "# for just a point or four, a map doesn't make much sense. \n",
    "# what would be a good accompanying visualization?\n",
    "pValToPlot = ksAll.transpose().swaplevel(0,1).transpose()['pvalue'].to_xarray().to_array('season')\n",
    "plotted = pValToPlot.plot.pcolormesh(transform=ccrs.PlateCarree(),col='season',col_wrap=2,\n",
    "                                  subplot_kws={'projection':ccrs.LambertCylindrical(200)},\n",
    "                                         figsize=[10,5],vmin=0,vmax=1,cmap=mycmap)\n",
    "seasons = ['DJF','JJA']\n",
    "for i, ax in enumerate(plotted.axes.flat):\n",
    "    ax.coastlines(linewidth=1.4)\n",
    "\n",
    "plt.savefig(png)"
   ]
  },
  {
   "cell_type": "code",
   "execution_count": 35,
   "metadata": {},
   "outputs": [],
   "source": [
    "# write out the text file with the results\n",
    "ksAll.to_csv(txt)"
   ]
  },
  {
   "cell_type": "code",
   "execution_count": 36,
   "metadata": {},
   "outputs": [
    {
     "data": {
      "text/html": [
       "<div>\n",
       "<style scoped>\n",
       "    .dataframe tbody tr th:only-of-type {\n",
       "        vertical-align: middle;\n",
       "    }\n",
       "\n",
       "    .dataframe tbody tr th {\n",
       "        vertical-align: top;\n",
       "    }\n",
       "\n",
       "    .dataframe thead tr th {\n",
       "        text-align: left;\n",
       "    }\n",
       "\n",
       "    .dataframe thead tr:last-of-type th {\n",
       "        text-align: right;\n",
       "    }\n",
       "</style>\n",
       "<table border=\"1\" class=\"dataframe\">\n",
       "  <thead>\n",
       "    <tr>\n",
       "      <th></th>\n",
       "      <th></th>\n",
       "      <th colspan=\"2\" halign=\"left\">DJF</th>\n",
       "      <th colspan=\"2\" halign=\"left\">JJA</th>\n",
       "    </tr>\n",
       "    <tr>\n",
       "      <th></th>\n",
       "      <th></th>\n",
       "      <th>statistic</th>\n",
       "      <th>pvalue</th>\n",
       "      <th>statistic</th>\n",
       "      <th>pvalue</th>\n",
       "    </tr>\n",
       "    <tr>\n",
       "      <th>lat</th>\n",
       "      <th>lon</th>\n",
       "      <th></th>\n",
       "      <th></th>\n",
       "      <th></th>\n",
       "      <th></th>\n",
       "    </tr>\n",
       "  </thead>\n",
       "  <tbody>\n",
       "    <tr>\n",
       "      <th rowspan=\"2\" valign=\"top\">-33.08393</th>\n",
       "      <th>299.250</th>\n",
       "      <td>0.415158</td>\n",
       "      <td>0.000002</td>\n",
       "      <td>0.323544</td>\n",
       "      <td>0.000129</td>\n",
       "    </tr>\n",
       "    <tr>\n",
       "      <th>300.375</th>\n",
       "      <td>0.346154</td>\n",
       "      <td>0.000021</td>\n",
       "      <td>0.234514</td>\n",
       "      <td>0.006874</td>\n",
       "    </tr>\n",
       "    <tr>\n",
       "      <th rowspan=\"2\" valign=\"top\">-31.96244</th>\n",
       "      <th>299.250</th>\n",
       "      <td>0.248370</td>\n",
       "      <td>0.010386</td>\n",
       "      <td>0.256437</td>\n",
       "      <td>0.003600</td>\n",
       "    </tr>\n",
       "    <tr>\n",
       "      <th>300.375</th>\n",
       "      <td>0.268485</td>\n",
       "      <td>0.000334</td>\n",
       "      <td>0.100394</td>\n",
       "      <td>0.589222</td>\n",
       "    </tr>\n",
       "  </tbody>\n",
       "</table>\n",
       "</div>"
      ],
      "text/plain": [
       "                        DJF                 JJA          \n",
       "                  statistic    pvalue statistic    pvalue\n",
       "lat       lon                                            \n",
       "-33.08393 299.250  0.415158  0.000002  0.323544  0.000129\n",
       "          300.375  0.346154  0.000021  0.234514  0.006874\n",
       "-31.96244 299.250  0.248370  0.010386  0.256437  0.003600\n",
       "          300.375  0.268485  0.000334  0.100394  0.589222"
      ]
     },
     "execution_count": 36,
     "metadata": {},
     "output_type": "execute_result"
    }
   ],
   "source": [
    "# demo, read it back in:\n",
    "ksAllAgain = pd.read_csv(txt,index_col=[0,1],header=[0,1])\n",
    "ksAllAgain"
   ]
  },
  {
   "cell_type": "code",
   "execution_count": null,
   "metadata": {},
   "outputs": [],
   "source": []
  }
 ],
 "metadata": {
  "kernelspec": {
   "display_name": "Python 3",
   "language": "python",
   "name": "python3"
  },
  "language_info": {
   "codemirror_mode": {
    "name": "ipython",
    "version": 3
   },
   "file_extension": ".py",
   "mimetype": "text/x-python",
   "name": "python",
   "nbconvert_exporter": "python",
   "pygments_lexer": "ipython3",
   "version": "3.6.8"
  }
 },
 "nbformat": 4,
 "nbformat_minor": 2
}
