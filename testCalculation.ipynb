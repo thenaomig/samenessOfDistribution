{
 "cells": [
  {
   "cell_type": "code",
   "execution_count": 1,
   "metadata": {},
   "outputs": [],
   "source": [
    "import numpy as np\n",
    "import scipy as sp\n",
    "import pandas as pd\n",
    "import dask as da\n",
    "import xarray as xy\n",
    "import matplotlib.pyplot as plt\n",
    "from matplotlib import cm  #colormap                                                                                                                  \n",
    "import matplotlib.ticker as ticker\n",
    "import cartopy.crs as ccrs\n",
    "import cartopy.feature as cfeature\n",
    "from time import time\n",
    "import os.path\n",
    "import cftime\n",
    "from copy import deepcopy\n",
    "\n",
    "from scipy.stats import ks_2samp as ksTest\n",
    "\n",
    "from matplotlib.colors import LinearSegmentedColormap\n",
    "mycmap = LinearSegmentedColormap.from_list(\"\", [\"white\",\"purple\",\"purple\"],N=10)\n"
   ]
  },
  {
   "cell_type": "code",
   "execution_count": 2,
   "metadata": {},
   "outputs": [],
   "source": [
    "def getCal(fileName):\n",
    "    temp = xy.open_dataset(fileName,decode_times=False)\n",
    "    return temp.time.calendar\n",
    "\n",
    "def addSeasonArray(y):\n",
    "    return xy.DataArray([GroupbySeason(y,x) for x in np.arange(len(y.time))],name='season',dims=['time'])\n",
    "\n",
    "def GroupbySeason(df, ind):\n",
    "    month = int(str(df['time'].isel(time=ind).coords).split('-')[1])\n",
    "    if month in [12,1,2]:\n",
    "        return 'DJF'\n",
    "    elif month in [3,4,5]:\n",
    "        return 'MAM'\n",
    "    elif month in [6,7,8]:\n",
    "        return 'JJA'\n",
    "    elif month in [9,10,11]:\n",
    "        return 'SON'\n",
    "\n",
    "def startslice(startYear,fileName):\n",
    "    sm = 1\n",
    "    if getCal(fileName) == '360_day':\n",
    "        startslice = cftime.Datetime360Day(startYear, sm, 1,0,0,0,0,-1,1)\n",
    "    else:\n",
    "        startslice = str(startYear)+str(sm).zfill(2)+'01'\n",
    "\n",
    "    return startslice\n",
    "\n",
    "def endslice(endYear,fileName):\n",
    "    if getCal(fileName) == '360_day':\n",
    "        endslice = cftime.Datetime360Day(endYear, 12, 30,23,0,0,0,-1,360)\n",
    "    else:\n",
    "        endslice = str(endYear)+'1231'\n",
    "\n",
    "    return endslice\n"
   ]
  },
  {
   "cell_type": "code",
   "execution_count": 3,
   "metadata": {},
   "outputs": [],
   "source": [
    "def wetDayPercentile(y,q=85):\n",
    "    #note hard-coded wet-day threshold of >0.1mm/d                                                                                                    \n",
    "    return y.where(y>0.1).reduce(np.nanpercentile,dim='time',q=q)\n"
   ]
  },
  {
   "cell_type": "code",
   "execution_count": 280,
   "metadata": {},
   "outputs": [],
   "source": [
    " # arguments should be passed in:                                                                                                                  \n",
    "#\"label\": plot title: \"[analysis scenario rcm gcm location]\"                                                                                      \n",
    "label = \"ksTestTail test[scenario rcm gcm location]\"\n",
    "#\"obs\": input file with observational data (single timeseries, one variable, one point)                                                           \n",
    "obs = 'dataFiles/prec.obs.nc'\n",
    "#\"cur\": same as obs, but for historical period of simulation                                                                                      \n",
    "cur = 'dataFiles/prec.cur.nc'\n",
    "#\"fut\": same as \"cur\", but for future period of simulation                                                                                        \n",
    "fut = 'dataFiles/prec.fut.nc'\n",
    "#\"png\": name of 'png' file to write the figure                                                                                                    \n",
    "png = \"testKStestTail.png\"\n",
    "#\"var\": name of data variable in input files                                                                                                      \n",
    "var = \"prec\"\n",
    "#\"txt\": name of file to write tab-delimited numerical metric results                                                                              \n",
    "txt = \"testKStestTail.csv\"\n"
   ]
  },
  {
   "cell_type": "code",
   "execution_count": 14,
   "metadata": {},
   "outputs": [],
   "source": [
    "def callKStest(col):\n",
    "    try:\n",
    "        toReturn = ksTest(pHistDF[col].dropna().squeeze().values,obsDF[col].dropna().squeeze().values)\n",
    "        return (toReturn.statistic, toReturn.pvalue)\n",
    "    except:\n",
    "        return (np.NaN, np.NaN)\n",
    "\n",
    "def toDF(data):\n",
    "    dataWhere = data.loc[data['time.season']==season]\n",
    "    dataWhere = dataWhere.where(dataWhere>pThreshOne.sel(season=season))\n",
    "    dataStacked = dataWhere.stack(allpoints=['lat','lon']).squeeze()                                                                             \n",
    "    return dataStacked.to_pandas()                                                                                         \n",
    "\n",
    "obsData = xy.open_dataset(obs)\n",
    "pThreshOne = obsData[var].groupby('time.season').apply(wetDayPercentile,q=85)\n",
    "\n",
    "pHist = xy.open_dataset(cur)\n",
    "pFuture = xy.open_dataset(fut)\n"
   ]
  },
  {
   "cell_type": "code",
   "execution_count": 10,
   "metadata": {},
   "outputs": [],
   "source": [
    "if getCal(cur) == '360_day':\n",
    "    grouperString = 'season'\n",
    "    pHist.coords['season'] = addSeasonArray(pHist)\n",
    "    pFuture.coords['season'] = addSeasonArray(pFuture)\n",
    "else:\n",
    "    grouperString = 'time.season'\n"
   ]
  },
  {
   "cell_type": "code",
   "execution_count": 26,
   "metadata": {},
   "outputs": [
    {
     "name": "stdout",
     "output_type": "stream",
     "text": [
      "calculation took 1.18s\n"
     ]
    }
   ],
   "source": [
    "t1 = time()\n",
    "ksAll = pd.DataFrame()\n",
    "for season in ['DJF','JJA']:\n",
    "    pHistDF = toDF(pHist[var])\n",
    "    pFutureDF = toDF(pFuture[var])\n",
    "    obsDF = toDF(obsData[var])\n",
    "\n",
    "    ksOut = pd.DataFrame((callKStest(col) for col in pHistDF),index=pHistDF.columns)\n",
    "    ksAll[(season,'statistic')] = ksOut[0]\n",
    "    ksAll[(season,'pvalue')] = ksOut[1]\n",
    "\n",
    "ksAll = ksAll.transpose()\n",
    "ksAll.index = pd.MultiIndex.from_tuples(ksAll.index)\n",
    "ksAll.sort_index()\n",
    "ksAll = ksAll.transpose()\n",
    "t2=time()\n",
    "print ('calculation took '+str(np.round(t2-t1,2))+'s')\n"
   ]
  },
  {
   "cell_type": "code",
   "execution_count": 37,
   "metadata": {},
   "outputs": [
    {
     "name": "stderr",
     "output_type": "stream",
     "text": [
      "/home/ngoldenson/miniconda2/envs/forPy3/lib/python3.6/site-packages/matplotlib/tight_layout.py:176: UserWarning: Tight layout not applied. The left and right margins cannot be made large enough to accommodate all axes decorations. \n",
      "  warnings.warn('Tight layout not applied. The left and right margins '\n"
     ]
    },
    {
     "data": {
      "image/png": "[encoded data removed]",
      "text/plain": [
       "<Figure size 720x360 with 3 Axes>"
      ]
     },
     "metadata": {
      "needs_background": "light"
     },
     "output_type": "display_data"
    }
   ],
   "source": [
    "# for just a point or four, a map doesn't make much sense. \n",
    "# what would be a good accompanying visualization instead?\n",
    "pValToPlot = ksAll.transpose().swaplevel(0,1).transpose()['pvalue'].to_xarray().to_array('season')\n",
    "plotted = pValToPlot.plot.pcolormesh(transform=ccrs.PlateCarree(),col='season',col_wrap=2,\n",
    "                                  subplot_kws={'projection':ccrs.LambertCylindrical(200)},\n",
    "                                         figsize=[10,5],vmin=0,vmax=1,cmap=mycmap)\n",
    "seasons = ['DJF','JJA']\n",
    "for i, ax in enumerate(plotted.axes.flat):\n",
    "    ax.coastlines(linewidth=1.4)"
   ]
  },
  {
   "cell_type": "code",
   "execution_count": 35,
   "metadata": {},
   "outputs": [],
   "source": [
    "# write out the text file with the results\n",
    "ksAll.to_csv(txt)"
   ]
  },
  {
   "cell_type": "code",
   "execution_count": 104,
   "metadata": {},
   "outputs": [
    {
     "data": {
      "text/html": [
       "<div>\n",
       "<style scoped>\n",
       "    .dataframe tbody tr th:only-of-type {\n",
       "        vertical-align: middle;\n",
       "    }\n",
       "\n",
       "    .dataframe tbody tr th {\n",
       "        vertical-align: top;\n",
       "    }\n",
       "\n",
       "    .dataframe thead tr th {\n",
       "        text-align: left;\n",
       "    }\n",
       "\n",
       "    .dataframe thead tr:last-of-type th {\n",
       "        text-align: right;\n",
       "    }\n",
       "</style>\n",
       "<table border=\"1\" class=\"dataframe\">\n",
       "  <thead>\n",
       "    <tr>\n",
       "      <th></th>\n",
       "      <th></th>\n",
       "      <th colspan=\"2\" halign=\"left\">DJF</th>\n",
       "      <th colspan=\"2\" halign=\"left\">JJA</th>\n",
       "    </tr>\n",
       "    <tr>\n",
       "      <th></th>\n",
       "      <th></th>\n",
       "      <th>statistic</th>\n",
       "      <th>pvalue</th>\n",
       "      <th>statistic</th>\n",
       "      <th>pvalue</th>\n",
       "    </tr>\n",
       "    <tr>\n",
       "      <th>lat</th>\n",
       "      <th>lon</th>\n",
       "      <th></th>\n",
       "      <th></th>\n",
       "      <th></th>\n",
       "      <th></th>\n",
       "    </tr>\n",
       "  </thead>\n",
       "  <tbody>\n",
       "    <tr>\n",
       "      <th rowspan=\"2\" valign=\"top\">-33.08393</th>\n",
       "      <th>299.250</th>\n",
       "      <td>0.415158</td>\n",
       "      <td>0.000002</td>\n",
       "      <td>0.323544</td>\n",
       "      <td>0.000129</td>\n",
       "    </tr>\n",
       "    <tr>\n",
       "      <th>300.375</th>\n",
       "      <td>0.346154</td>\n",
       "      <td>0.000021</td>\n",
       "      <td>0.234514</td>\n",
       "      <td>0.006874</td>\n",
       "    </tr>\n",
       "    <tr>\n",
       "      <th rowspan=\"2\" valign=\"top\">-31.96244</th>\n",
       "      <th>299.250</th>\n",
       "      <td>0.248370</td>\n",
       "      <td>0.010386</td>\n",
       "      <td>0.256437</td>\n",
       "      <td>0.003600</td>\n",
       "    </tr>\n",
       "    <tr>\n",
       "      <th>300.375</th>\n",
       "      <td>0.268485</td>\n",
       "      <td>0.000334</td>\n",
       "      <td>0.100394</td>\n",
       "      <td>0.589222</td>\n",
       "    </tr>\n",
       "  </tbody>\n",
       "</table>\n",
       "</div>"
      ],
      "text/plain": [
       "                        DJF                 JJA          \n",
       "                  statistic    pvalue statistic    pvalue\n",
       "lat       lon                                            \n",
       "-33.08393 299.250  0.415158  0.000002  0.323544  0.000129\n",
       "          300.375  0.346154  0.000021  0.234514  0.006874\n",
       "-31.96244 299.250  0.248370  0.010386  0.256437  0.003600\n",
       "          300.375  0.268485  0.000334  0.100394  0.589222"
      ]
     },
     "execution_count": 104,
     "metadata": {},
     "output_type": "execute_result"
    }
   ],
   "source": [
    "# demo, read it back in:\n",
    "ksAllAgain = pd.read_csv(txt,index_col=[0,1],header=[0,1])\n",
    "ksAllAgain"
   ]
  },
  {
   "cell_type": "code",
   "execution_count": null,
   "metadata": {},
   "outputs": [],
   "source": []
  },
  {
   "cell_type": "markdown",
   "metadata": {},
   "source": [
    "### instead, let's select just one lat/lon point first"
   ]
  },
  {
   "cell_type": "code",
   "execution_count": null,
   "metadata": {},
   "outputs": [],
   "source": [
    "# can't combine these all in one dataframe with different time indices"
   ]
  },
  {
   "cell_type": "code",
   "execution_count": null,
   "metadata": {},
   "outputs": [],
   "source": []
  },
  {
   "cell_type": "code",
   "execution_count": 310,
   "metadata": {},
   "outputs": [],
   "source": [
    "# version for only one point, not set of lats/lons:\n",
    "def toDF(data):\n",
    "    dataWhere = data.sel(time=data['time.season']==season)\n",
    "    dataWhere = dataWhere.where(dataWhere>pThreshOne.sel(season=season))\n",
    "    return dataWhere.to_pandas()    \n",
    "\n",
    "#columns are seasons instead of lats/lons\n",
    "def callKStest(col):\n",
    "    try:\n",
    "        toReturn = ksTest(histDF[col].dropna().squeeze().values,obsDF[col].dropna().squeeze().values)\n",
    "        return (toReturn.statistic, toReturn.pvalue)\n",
    "    except:\n",
    "        return (np.NaN, np.NaN)\n"
   ]
  },
  {
   "cell_type": "code",
   "execution_count": 311,
   "metadata": {},
   "outputs": [],
   "source": [
    "obsData = xy.open_dataset(obs)\n",
    "pThreshOne = obsData[var].groupby('time.season').apply(wetDayPercentile,q=85)\n",
    "\n",
    "pHist = xy.open_dataset(cur)\n",
    "pFuture = xy.open_dataset(fut)\n",
    "\n",
    "pThreshOne = pThreshOne.isel(lat=0,lon=0)"
   ]
  },
  {
   "cell_type": "code",
   "execution_count": 313,
   "metadata": {},
   "outputs": [
    {
     "name": "stdout",
     "output_type": "stream",
     "text": [
      "calculation took 1.52s\n"
     ]
    }
   ],
   "source": [
    "t1 = time()\n",
    "obsDF = pd.DataFrame()\n",
    "histDF = pd.DataFrame()\n",
    "futureDF = pd.DataFrame()\n",
    "ksAll = pd.DataFrame()\n",
    "for season in ['DJF','MAM','JJA','SON']:\n",
    "    obsDF[season] = toDF(obsData[var].isel(lat=0,lon=0))\n",
    "    histDF[season] = toDF(pHist[var].isel(lat=0,lon=0))\n",
    "    futureDF[season] = toDF(pFuture[var].isel(lat=0,lon=0))\n",
    "    \n",
    "ksOut = pd.DataFrame((callKStest(col) for col in histDF),index=histDF.columns)\n",
    "ksOut.columns = ['statistic','pValue']\n",
    "\n",
    "t2=time()\n",
    "print ('calculation took '+str(np.round(t2-t1,2))+'s')"
   ]
  },
  {
   "cell_type": "code",
   "execution_count": 314,
   "metadata": {},
   "outputs": [],
   "source": [
    "ksOut.to_csv(txt)"
   ]
  },
  {
   "cell_type": "code",
   "execution_count": 315,
   "metadata": {},
   "outputs": [
    {
     "data": {
      "text/html": [
       "<div>\n",
       "<style scoped>\n",
       "    .dataframe tbody tr th:only-of-type {\n",
       "        vertical-align: middle;\n",
       "    }\n",
       "\n",
       "    .dataframe tbody tr th {\n",
       "        vertical-align: top;\n",
       "    }\n",
       "\n",
       "    .dataframe thead th {\n",
       "        text-align: right;\n",
       "    }\n",
       "</style>\n",
       "<table border=\"1\" class=\"dataframe\">\n",
       "  <thead>\n",
       "    <tr style=\"text-align: right;\">\n",
       "      <th></th>\n",
       "      <th>statistic</th>\n",
       "      <th>pValue</th>\n",
       "    </tr>\n",
       "  </thead>\n",
       "  <tbody>\n",
       "    <tr>\n",
       "      <th>DJF</th>\n",
       "      <td>0.135546</td>\n",
       "      <td>0.096165</td>\n",
       "    </tr>\n",
       "    <tr>\n",
       "      <th>MAM</th>\n",
       "      <td>NaN</td>\n",
       "      <td>NaN</td>\n",
       "    </tr>\n",
       "    <tr>\n",
       "      <th>JJA</th>\n",
       "      <td>NaN</td>\n",
       "      <td>NaN</td>\n",
       "    </tr>\n",
       "    <tr>\n",
       "      <th>SON</th>\n",
       "      <td>NaN</td>\n",
       "      <td>NaN</td>\n",
       "    </tr>\n",
       "  </tbody>\n",
       "</table>\n",
       "</div>"
      ],
      "text/plain": [
       "     statistic    pValue\n",
       "DJF   0.135546  0.096165\n",
       "MAM        NaN       NaN\n",
       "JJA        NaN       NaN\n",
       "SON        NaN       NaN"
      ]
     },
     "execution_count": 315,
     "metadata": {},
     "output_type": "execute_result"
    }
   ],
   "source": [
    "#test read back in:\n",
    "ksOutAndBack = pd.read_csv(txt,index_col=0)\n",
    "ksOutAndBack"
   ]
  },
  {
   "cell_type": "code",
   "execution_count": null,
   "metadata": {},
   "outputs": [],
   "source": [
    "binsToUse = np.logspace(0,2,100)\n",
    "plt.figure(figsize=[15,8])\n",
    "for i, season in enumerate(['DJF','MAM','JJA','SON']):\n",
    "    ax = plt.subplot(2,2,i+1)\n",
    "    obsDF[season].plot.hist(ax=ax,bins=binsToUse,stacked=False,alpha=0.5) \n",
    "    histDF[season].plot.hist(ax=ax,bins=binsToUse,stacked=False,alpha=0.5) \n",
    "    futureDF[season].plot.hist(ax=ax,bins=binsToUse,stacked=False,alpha=0.5) \n",
    "    ax.plot(np.zeros(10)+pThreshDF[season],np.logspace(0,1,10),linestyle='--',color='b',label='85th percentile obs')    \n",
    "\n",
    "    ax.set(xscale='log')\n",
    "    ax.xaxis.set_major_formatter(ticker.FuncFormatter(lambda y,pos: ('{{:.{:1d}f}}'.format(int(np.maximum(-np.log10(y),0)))).format(y)))\n",
    "    if i>1:\n",
    "        try:\n",
    "            units = obsData[var].attrs['units']\n",
    "            plt.xlabel(units)\n",
    "        except:\n",
    "            plt.xlabel('default units in file')\n",
    "    plt.title(season)\n",
    "    plt.legend(loc='upper left')\n",
    "    ax.annotate('statistic: '+str(np.round(ksOut.T[season]['statistic'],2)),xy=(0.7,0.9),\n",
    "                xycoords='axes fraction')\n",
    "    ax.annotate('p value:  '+str(np.round(ksOut.T[season]['pValue'],2)),xy=(0.7,0.85),\n",
    "                xycoords='axes fraction')\n",
    "\n",
    "plt.suptitle(label)\n",
    "plt.savefig(png)"
   ]
  },
  {
   "cell_type": "markdown",
   "metadata": {},
   "source": [
    "### This is not the ideal test dataset. Let's choose another:"
   ]
  },
  {
   "cell_type": "code",
   "execution_count": 287,
   "metadata": {},
   "outputs": [],
   "source": [
    "#\"label\": plot title: \"[analysis scenario rcm gcm location]\"                                                                                      \n",
    "label = \"ksTestTail test[scenario rcm gcm location]\"\n",
    "#\"obs\": input file with observational data (single timeseries, one variable, one point)                                                           \n",
    "obs = 'dataFiles/prec.maurer.observed.daily.common.nc'\n",
    "#\"cur\": same as obs, but for historical period of simulation                                                                                      \n",
    "cur = 'dataFiles/prec.ECP2.gfdl-current.daily.common.nc'\n",
    "#\"fut\": same as \"cur\", but for future period of simulation                                                                                        \n",
    "fut = 'dataFiles/prec.ECP2.gfdl-future.daily.common.nc'\n",
    "#\"png\": name of 'png' file to write the figure                                                                                                    \n",
    "png = \"testKStestTail.png\"\n",
    "#\"var\": name of data variable in input files                                                                                                      \n",
    "var = \"prec\"\n",
    "#\"txt\": name of file to write tab-delimited numerical metric results                                                                              \n",
    "txt = \"testKStestTail.csv\"\n"
   ]
  },
  {
   "cell_type": "code",
   "execution_count": 288,
   "metadata": {},
   "outputs": [],
   "source": [
    "obsData = xy.open_dataset(obs)\n",
    "pThreshOne = obsData[var].groupby('time.season').apply(wetDayPercentile,q=85)\n",
    "\n",
    "pHist = xy.open_dataset(cur)\n",
    "pFuture = xy.open_dataset(fut)\n"
   ]
  },
  {
   "cell_type": "code",
   "execution_count": 289,
   "metadata": {},
   "outputs": [],
   "source": [
    "pThreshOne = pThreshOne.isel(lat=1,lon=1)"
   ]
  },
  {
   "cell_type": "code",
   "execution_count": 290,
   "metadata": {},
   "outputs": [
    {
     "name": "stdout",
     "output_type": "stream",
     "text": [
      "calculation took 2.39s\n"
     ]
    },
    {
     "name": "stderr",
     "output_type": "stream",
     "text": [
      "/home/ngoldenson/miniconda2/envs/forPy3/lib/python3.6/site-packages/scipy/stats/stats.py:4861: RuntimeWarning: invalid value encountered in true_divide\n",
      "  cdf1 = np.searchsorted(data1, data_all, side='right') / n1\n",
      "/home/ngoldenson/miniconda2/envs/forPy3/lib/python3.6/site-packages/numpy/core/_methods.py:26: RuntimeWarning: invalid value encountered in reduce\n",
      "  return umr_maximum(a, axis, None, out, keepdims)\n",
      "/home/ngoldenson/miniconda2/envs/forPy3/lib/python3.6/site-packages/scipy/stats/stats.py:4867: RuntimeWarning: divide by zero encountered in double_scalars\n",
      "  prob = distributions.kstwobign.sf((en + 0.12 + 0.11 / en) * d)\n"
     ]
    }
   ],
   "source": [
    "t1 = time()\n",
    "dfBySeason = pd.DataFrame()\n",
    "ksAll = pd.DataFrame()\n",
    "for season in ['DJF','MAM','JJA','SON']:\n",
    "    dfBySeason[('observations',season)] = toDF(obsData[var].isel(lat=1,lon=1))\n",
    "    dfBySeason[('historical',season)] = toDF(pHist[var].isel(lat=1,lon=1))\n",
    "    dfBySeason[('future',season)] = toDF(pFuture[var].isel(lat=1,lon=1))\n",
    "    \n",
    "dfBySeason = dfBySeason.transpose()\n",
    "dfBySeason.index = pd.MultiIndex.from_tuples(dfBySeason.index)\n",
    "dfBySeason = dfBySeason.transpose()\n",
    "\n",
    "ksOut = pd.DataFrame((callKStest(col) for col in dfBySeason['historical']),index=dfBySeason['historical'].columns)\n",
    "ksOut.columns = ['statistic','pValue']\n",
    "\n",
    "t2=time()\n",
    "print ('calculation took '+str(np.round(t2-t1,2))+'s')"
   ]
  },
  {
   "cell_type": "code",
   "execution_count": 291,
   "metadata": {},
   "outputs": [
    {
     "data": {
      "image/png": "[encoded data removed]",
      "text/plain": [
       "<Figure size 1080x576 with 4 Axes>"
      ]
     },
     "metadata": {
      "needs_background": "light"
     },
     "output_type": "display_data"
    }
   ],
   "source": [
    "binsToUse = np.logspace(0,2,100)\n",
    "toPlotHists = dfBySeason.T.swaplevel(0,1).T\n",
    "plt.figure(figsize=[15,8])\n",
    "for i, season in enumerate(['DJF','MAM','JJA','SON']):\n",
    "    ax = plt.subplot(2,2,i+1)\n",
    "    toPlotHists[season].plot.hist(ax=ax,bins=binsToUse,stacked=False,alpha=0.5) \n",
    "    ax.plot(np.zeros(10)+pThreshDF[season],np.logspace(0,1,10),linestyle='--',color='b',label='85th percentile obs')    \n",
    "\n",
    "    ax.set(xscale='log')\n",
    "    ax.xaxis.set_major_formatter(ticker.FuncFormatter(lambda y,pos: ('{{:.{:1d}f}}'.format(int(np.maximum(-np.log10(y),0)))).format(y)))\n",
    "    if i>1:\n",
    "        try:\n",
    "            units = obsData[var].attrs['units']\n",
    "            plt.xlabel(units)\n",
    "        except:\n",
    "            plt.xlabel('default units in file')\n",
    "    plt.title(season)\n",
    "    plt.legend(loc='upper left')\n",
    "    ax.annotate('statistic: '+str(np.round(ksOut.T[season]['statistic'],2)),xy=(0.7,0.9),\n",
    "                xycoords='axes fraction')\n",
    "    ax.annotate('p value:  '+str(np.round(ksOut.T[season]['pValue'],2)),xy=(0.7,0.85),\n",
    "                xycoords='axes fraction')\n",
    "\n",
    "plt.suptitle(label)\n",
    "plt.savefig(png)"
   ]
  },
  {
   "cell_type": "code",
   "execution_count": 292,
   "metadata": {},
   "outputs": [
    {
     "data": {
      "text/html": [
       "<div>\n",
       "<style scoped>\n",
       "    .dataframe tbody tr th:only-of-type {\n",
       "        vertical-align: middle;\n",
       "    }\n",
       "\n",
       "    .dataframe tbody tr th {\n",
       "        vertical-align: top;\n",
       "    }\n",
       "\n",
       "    .dataframe thead th {\n",
       "        text-align: right;\n",
       "    }\n",
       "</style>\n",
       "<table border=\"1\" class=\"dataframe\">\n",
       "  <thead>\n",
       "    <tr style=\"text-align: right;\">\n",
       "      <th></th>\n",
       "      <th>statistic</th>\n",
       "      <th>pValue</th>\n",
       "    </tr>\n",
       "  </thead>\n",
       "  <tbody>\n",
       "    <tr>\n",
       "      <th>DJF</th>\n",
       "      <td>NaN</td>\n",
       "      <td>NaN</td>\n",
       "    </tr>\n",
       "    <tr>\n",
       "      <th>MAM</th>\n",
       "      <td>NaN</td>\n",
       "      <td>NaN</td>\n",
       "    </tr>\n",
       "    <tr>\n",
       "      <th>JJA</th>\n",
       "      <td>NaN</td>\n",
       "      <td>NaN</td>\n",
       "    </tr>\n",
       "    <tr>\n",
       "      <th>SON</th>\n",
       "      <td>NaN</td>\n",
       "      <td>NaN</td>\n",
       "    </tr>\n",
       "  </tbody>\n",
       "</table>\n",
       "</div>"
      ],
      "text/plain": [
       "     statistic  pValue\n",
       "DJF        NaN     NaN\n",
       "MAM        NaN     NaN\n",
       "JJA        NaN     NaN\n",
       "SON        NaN     NaN"
      ]
     },
     "execution_count": 292,
     "metadata": {},
     "output_type": "execute_result"
    }
   ],
   "source": [
    "ksOut"
   ]
  },
  {
   "cell_type": "code",
   "execution_count": 251,
   "metadata": {},
   "outputs": [
    {
     "data": {
      "text/plain": [
       "<xarray.DataArray 'time' (time: 10958)>\n",
       "array(['1970-12-01T12:00:00.000000000', '1970-12-02T12:00:00.000000000',\n",
       "       '1970-12-03T12:00:00.000000000', ..., '2000-11-28T12:00:00.000000000',\n",
       "       '2000-11-29T12:00:00.000000000', '2000-11-30T12:00:00.000000000'],\n",
       "      dtype='datetime64[ns]')\n",
       "Coordinates:\n",
       "  * time     (time) datetime64[ns] 1970-12-01T12:00:00 ... 2000-11-30T12:00:00\n",
       "    lat      float32 40.25\n",
       "    lon      float32 254.75\n",
       "Attributes:\n",
       "    axis:           T\n",
       "    bounds:         time_bnds\n",
       "    long_name:      time\n",
       "    standard_name:  time"
      ]
     },
     "execution_count": 251,
     "metadata": {},
     "output_type": "execute_result"
    }
   ],
   "source": [
    "obsData[var].isel(lat=1,lon=1).time"
   ]
  },
  {
   "cell_type": "code",
   "execution_count": null,
   "metadata": {},
   "outputs": [],
   "source": []
  }
 ],
 "metadata": {
  "kernelspec": {
   "display_name": "Python 3",
   "language": "python",
   "name": "python3"
  },
  "language_info": {
   "codemirror_mode": {
    "name": "ipython",
    "version": 3
   },
   "file_extension": ".py",
   "mimetype": "text/x-python",
   "name": "python",
   "nbconvert_exporter": "python",
   "pygments_lexer": "ipython3",
   "version": "3.6.8"
  }
 },
 "nbformat": 4,
 "nbformat_minor": 2
}
